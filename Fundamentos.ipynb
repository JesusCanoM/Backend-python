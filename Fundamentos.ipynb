{
 "cells": [
  {
   "cell_type": "markdown",
   "id": "ebd07d6c-d452-41e8-b298-c49bfb2a28a2",
   "metadata": {},
   "source": [
    "## Python distinge entre mayusculas y minuscula"
   ]
  },
  {
   "cell_type": "code",
   "execution_count": 5,
   "id": "35535e32-8088-4767-8c8f-44f78d509835",
   "metadata": {},
   "outputs": [
    {
     "name": "stdout",
     "output_type": "stream",
     "text": [
      "El curso es: Backend python\n"
     ]
    }
   ],
   "source": [
    "A = \"Backend python\"\n",
    "print(\"El curso es:\",A)"
   ]
  },
  {
   "cell_type": "code",
   "execution_count": 7,
   "id": "97b4129c-81aa-4dd1-953b-fc0f8f0b9b45",
   "metadata": {},
   "outputs": [
    {
     "name": "stdout",
     "output_type": "stream",
     "text": [
      "El curso es: Backend python\n"
     ]
    }
   ],
   "source": [
    "a = \"Backend python\"\n",
    "print(\"El curso es:\",a)"
   ]
  },
  {
   "cell_type": "markdown",
   "id": "fc9728e1-e250-490c-a529-426db62afe38",
   "metadata": {},
   "source": [
    "## Palabras reservadas en python"
   ]
  },
  {
   "cell_type": "code",
   "execution_count": 9,
   "id": "b50ff632-d602-4137-bb4c-ea0118fc7fbb",
   "metadata": {},
   "outputs": [
    {
     "name": "stdout",
     "output_type": "stream",
     "text": [
      "\n",
      "Here is a list of the Python keywords.  Enter any keyword to get more help.\n",
      "\n",
      "False               class               from                or\n",
      "None                continue            global              pass\n",
      "True                def                 if                  raise\n",
      "and                 del                 import              return\n",
      "as                  elif                in                  try\n",
      "assert              else                is                  while\n",
      "async               except              lambda              with\n",
      "await               finally             nonlocal            yield\n",
      "break               for                 not                 \n",
      "\n"
     ]
    }
   ],
   "source": [
    "help(\"keywords\")"
   ]
  },
  {
   "cell_type": "markdown",
   "id": "d43f673e-06c9-47a8-ad8a-c57be30f5982",
   "metadata": {},
   "source": [
    "## Caracteres de escape en python"
   ]
  },
  {
   "cell_type": "code",
   "execution_count": 10,
   "id": "3e810db3-de79-4381-ad4c-a851ea19b11e",
   "metadata": {},
   "outputs": [
    {
     "data": {
      "text/plain": [
       "\"'\""
      ]
     },
     "execution_count": 10,
     "metadata": {},
     "output_type": "execute_result"
    }
   ],
   "source": [
    "\"\\'\" # Single Quote / comilla sencillas"
   ]
  },
  {
   "cell_type": "code",
   "execution_count": 11,
   "id": "398210db-6452-4266-9517-d1ab4cf02626",
   "metadata": {},
   "outputs": [
    {
     "data": {
      "text/plain": [
       "\"'\""
      ]
     },
     "execution_count": 11,
     "metadata": {},
     "output_type": "execute_result"
    }
   ],
   "source": [
    "\"'\""
   ]
  },
  {
   "cell_type": "code",
   "execution_count": 12,
   "id": "18bf0df0-f3f3-4e6c-9daa-607a5b66c0e0",
   "metadata": {},
   "outputs": [
    {
     "data": {
      "text/plain": [
       "\"'\""
      ]
     },
     "execution_count": 12,
     "metadata": {},
     "output_type": "execute_result"
    }
   ],
   "source": [
    "'\\''"
   ]
  },
  {
   "cell_type": "code",
   "execution_count": 13,
   "id": "5c144c9f-cb3f-4c19-a3d5-3c32b230b547",
   "metadata": {},
   "outputs": [
    {
     "ename": "_IncompleteInputError",
     "evalue": "incomplete input (3857640367.py, line 1)",
     "output_type": "error",
     "traceback": [
      "\u001b[1;36m  Cell \u001b[1;32mIn[13], line 1\u001b[1;36m\u001b[0m\n\u001b[1;33m    '''\u001b[0m\n\u001b[1;37m    ^\u001b[0m\n\u001b[1;31m_IncompleteInputError\u001b[0m\u001b[1;31m:\u001b[0m incomplete input\n"
     ]
    }
   ],
   "source": [
    "'''"
   ]
  },
  {
   "cell_type": "code",
   "execution_count": 14,
   "id": "3fc69f7b-0a4f-468f-b2dd-695335b53bc5",
   "metadata": {},
   "outputs": [
    {
     "data": {
      "text/plain": [
       "'\"'"
      ]
     },
     "execution_count": 14,
     "metadata": {},
     "output_type": "execute_result"
    }
   ],
   "source": [
    "\"\\\"\" ## Double Quote / Commilla Doble"
   ]
  },
  {
   "cell_type": "code",
   "execution_count": 15,
   "id": "2480b8e9-105a-471d-8880-d3205cb7fdd6",
   "metadata": {},
   "outputs": [
    {
     "ename": "_IncompleteInputError",
     "evalue": "incomplete input (969763094.py, line 1)",
     "output_type": "error",
     "traceback": [
      "\u001b[1;36m  Cell \u001b[1;32mIn[15], line 1\u001b[1;36m\u001b[0m\n\u001b[1;33m    \"\"\"\u001b[0m\n\u001b[1;37m    ^\u001b[0m\n\u001b[1;31m_IncompleteInputError\u001b[0m\u001b[1;31m:\u001b[0m incomplete input\n"
     ]
    }
   ],
   "source": [
    "\"\"\""
   ]
  },
  {
   "cell_type": "code",
   "execution_count": 17,
   "id": "f3b9ac3f-7e2e-48e8-8efd-dd3c2a8cac62",
   "metadata": {},
   "outputs": [
    {
     "data": {
      "text/plain": [
       "'\\n'"
      ]
     },
     "execution_count": 17,
     "metadata": {},
     "output_type": "execute_result"
    }
   ],
   "source": [
    "\"\\n\"  # esto es salto de linea"
   ]
  },
  {
   "cell_type": "code",
   "execution_count": 18,
   "id": "513a96b3-6148-4311-8759-a71465345999",
   "metadata": {},
   "outputs": [
    {
     "name": "stdout",
     "output_type": "stream",
     "text": [
      "Backend Python de EBAC\n"
     ]
    }
   ],
   "source": [
    "my_course = \"Backend Python de EBAC\"\n",
    "print(my_course)"
   ]
  },
  {
   "cell_type": "code",
   "execution_count": 19,
   "id": "ed332b35-4a4f-4818-8452-ab149d518ad9",
   "metadata": {},
   "outputs": [
    {
     "name": "stdout",
     "output_type": "stream",
     "text": [
      "Backend Python\n",
      "de EBAC\n"
     ]
    }
   ],
   "source": [
    "my_course = \"Backend Python\\nde EBAC\"\n",
    "print(my_course)"
   ]
  },
  {
   "cell_type": "code",
   "execution_count": 20,
   "id": "93bb2178-fa8d-41ec-927c-1f9fa4316dcf",
   "metadata": {},
   "outputs": [
    {
     "data": {
      "text/plain": [
       "'\\t'"
      ]
     },
     "execution_count": 20,
     "metadata": {},
     "output_type": "execute_result"
    }
   ],
   "source": [
    "\"\\t\" #Tab"
   ]
  },
  {
   "cell_type": "code",
   "execution_count": 21,
   "id": "95d24e9f-4ee7-42a0-afb0-00a793718067",
   "metadata": {},
   "outputs": [
    {
     "name": "stdout",
     "output_type": "stream",
     "text": [
      "Backend Python\tde EBAC\n"
     ]
    }
   ],
   "source": [
    "my_course = \"Backend Python\\tde EBAC\"\n",
    "print(my_course)"
   ]
  },
  {
   "cell_type": "code",
   "execution_count": 22,
   "id": "fcfb438c-fe8a-4203-98a3-217692a8bcad",
   "metadata": {},
   "outputs": [
    {
     "data": {
      "text/plain": [
       "'\\r'"
      ]
     },
     "execution_count": 22,
     "metadata": {},
     "output_type": "execute_result"
    }
   ],
   "source": [
    "\"\\r\" #carriage return / Retorno de carro"
   ]
  },
  {
   "cell_type": "code",
   "execution_count": 23,
   "id": "ab0c1765-71d7-483d-9dad-b49a64f1f0c9",
   "metadata": {},
   "outputs": [
    {
     "name": "stdout",
     "output_type": "stream",
     "text": [
      "de EBAC Python\n"
     ]
    }
   ],
   "source": [
    "my_course = \"Backend Python\\rde EBAC\"\n",
    "print(my_course)"
   ]
  },
  {
   "cell_type": "code",
   "execution_count": 24,
   "id": "4703d2d2-bb8c-4a37-b487-6c5c203595be",
   "metadata": {},
   "outputs": [
    {
     "data": {
      "text/plain": [
       "'\\x08'"
      ]
     },
     "execution_count": 24,
     "metadata": {},
     "output_type": "execute_result"
    }
   ],
   "source": [
    "\"\\b\" #backspace/retorno"
   ]
  },
  {
   "cell_type": "code",
   "execution_count": 26,
   "id": "3a66096f-ad8f-43f4-b6b4-a2db3199c5d9",
   "metadata": {},
   "outputs": [
    {
     "name": "stdout",
     "output_type": "stream",
     "text": [
      "Backend Pythode EBAC\n"
     ]
    }
   ],
   "source": [
    "my_course = \"Backend Python\\bde EBAC\"\n",
    "#se elimina el caracter anterior es lo que realiza el \\b\n",
    "print(my_course)"
   ]
  },
  {
   "cell_type": "code",
   "execution_count": 28,
   "id": "7e59f086-3920-4ea1-b877-0e1c99932f0c",
   "metadata": {},
   "outputs": [
    {
     "data": {
      "text/plain": [
       "'\\x00'"
      ]
     },
     "execution_count": 28,
     "metadata": {},
     "output_type": "execute_result"
    }
   ],
   "source": [
    "\"\\000\" #Octal "
   ]
  },
  {
   "cell_type": "code",
   "execution_count": 33,
   "id": "dbc0508e-3df8-46aa-a5c1-b620bf7e93e4",
   "metadata": {},
   "outputs": [
    {
     "name": "stdout",
     "output_type": "stream",
     "text": [
      "Hola\n"
     ]
    }
   ],
   "source": [
    "hello_spanish_octal= \"\\110\\157\\154\\141\"\n",
    "print(hello_spanish_octal)"
   ]
  },
  {
   "cell_type": "code",
   "execution_count": 36,
   "id": "96c6c7b5-5229-4ed6-b9c5-09613ba0ecdb",
   "metadata": {},
   "outputs": [],
   "source": [
    "#\"\\xhh\" #hexadecimal"
   ]
  },
  {
   "cell_type": "code",
   "execution_count": 37,
   "id": "fddd7ee6-5567-4bb7-b774-c8e88a74aa0e",
   "metadata": {},
   "outputs": [
    {
     "name": "stdout",
     "output_type": "stream",
     "text": [
      "Hola\n"
     ]
    }
   ],
   "source": [
    "hello_spanish_hex= \"\\x48\\x6f\\x6c\\x61\"\n",
    "print(hello_spanish_hex)"
   ]
  },
  {
   "cell_type": "markdown",
   "id": "bd8d5e23-f423-43e6-bbcf-9918740634a0",
   "metadata": {},
   "source": [
    "## Funcion eval()"
   ]
  },
  {
   "cell_type": "code",
   "execution_count": 40,
   "id": "7ab94c47-4e29-49bd-9bf1-d1ea079df9cd",
   "metadata": {},
   "outputs": [
    {
     "name": "stdout",
     "output_type": "stream",
     "text": [
      "my_number +1000\n"
     ]
    }
   ],
   "source": [
    "my_number = 22\n",
    "print(\"my_number +1000\" )"
   ]
  },
  {
   "cell_type": "code",
   "execution_count": 41,
   "id": "f929a56f-5293-43c2-b408-698ae5680e61",
   "metadata": {},
   "outputs": [
    {
     "name": "stdout",
     "output_type": "stream",
     "text": [
      "1022\n"
     ]
    }
   ],
   "source": [
    "my_number = 22\n",
    "print(eval(\"my_number +1000\" ))"
   ]
  },
  {
   "cell_type": "code",
   "execution_count": 42,
   "id": "9da99357-4421-4142-9420-0d814598e44e",
   "metadata": {},
   "outputs": [
    {
     "name": "stdin",
     "output_type": "stream",
     "text": [
      "ingresa un numero 123\n"
     ]
    }
   ],
   "source": [
    "my_input= input(\"ingresa un numero\")"
   ]
  },
  {
   "cell_type": "code",
   "execution_count": 43,
   "id": "b7b79c00-3ea8-46e2-8e3c-372aadbe7321",
   "metadata": {},
   "outputs": [
    {
     "data": {
      "text/plain": [
       "'123'"
      ]
     },
     "execution_count": 43,
     "metadata": {},
     "output_type": "execute_result"
    }
   ],
   "source": [
    "my_input"
   ]
  },
  {
   "cell_type": "code",
   "execution_count": 44,
   "id": "dff10e3a-a4c2-474a-a0d5-1fe36324dba7",
   "metadata": {},
   "outputs": [
    {
     "data": {
      "text/plain": [
       "123"
      ]
     },
     "execution_count": 44,
     "metadata": {},
     "output_type": "execute_result"
    }
   ],
   "source": [
    "eval(my_input)"
   ]
  },
  {
   "cell_type": "code",
   "execution_count": 46,
   "id": "bd0e9203-3318-44a7-bc39-42ec02970f63",
   "metadata": {},
   "outputs": [
    {
     "name": "stdin",
     "output_type": "stream",
     "text": [
      "ingresa un numero 5548\n"
     ]
    },
    {
     "name": "stdout",
     "output_type": "stream",
     "text": [
      "5548\n",
      "<class 'str'>\n"
     ]
    }
   ],
   "source": [
    "my_input= input(\"ingresa un numero\")\n",
    "print(my_input)\n",
    "print(type(my_input))\n",
    "##esto es una cadena <class 'str'>"
   ]
  },
  {
   "cell_type": "code",
   "execution_count": 47,
   "id": "c6cbdbb0-bc30-4e64-a71d-1d873f77c08a",
   "metadata": {},
   "outputs": [
    {
     "name": "stdin",
     "output_type": "stream",
     "text": [
      "ingresa un numero 54615\n"
     ]
    },
    {
     "name": "stdout",
     "output_type": "stream",
     "text": [
      "54615\n",
      "<class 'int'>\n"
     ]
    }
   ],
   "source": [
    "my_input= eval(input(\"ingresa un numero\"))\n",
    "print(my_input)\n",
    "print(type(my_input))\n",
    "##esto es una cadena <class 'str'>"
   ]
  },
  {
   "cell_type": "markdown",
   "id": "0b9a9cf1-ef74-4cbc-a41a-7818e6016531",
   "metadata": {},
   "source": [
    "## Funcion range() xrange() "
   ]
  },
  {
   "cell_type": "markdown",
   "id": "b3f0aef4-c603-4d02-a56e-0736371dfa86",
   "metadata": {},
   "source": [
    "### range(start, stop , step)"
   ]
  },
  {
   "cell_type": "code",
   "execution_count": 48,
   "id": "7599a22c-7d30-4a2a-8b53-709d47919745",
   "metadata": {},
   "outputs": [],
   "source": [
    "x= range(10)"
   ]
  },
  {
   "cell_type": "code",
   "execution_count": 49,
   "id": "0b5b7185-c5b6-4712-b43d-1aa2e31ca744",
   "metadata": {},
   "outputs": [
    {
     "data": {
      "text/plain": [
       "range(0, 10)"
      ]
     },
     "execution_count": 49,
     "metadata": {},
     "output_type": "execute_result"
    }
   ],
   "source": [
    "x"
   ]
  },
  {
   "cell_type": "code",
   "execution_count": 51,
   "id": "2c97231b-395c-42fc-9c0b-dbad036bb9cb",
   "metadata": {},
   "outputs": [
    {
     "name": "stdout",
     "output_type": "stream",
     "text": [
      "0\n",
      "1\n",
      "2\n",
      "3\n",
      "4\n",
      "5\n",
      "6\n",
      "7\n",
      "8\n",
      "9\n"
     ]
    }
   ],
   "source": [
    "for number in x:\n",
    "    print(number)"
   ]
  },
  {
   "cell_type": "code",
   "execution_count": 54,
   "id": "5e107532-a042-4f53-bf05-118ad7597b17",
   "metadata": {},
   "outputs": [
    {
     "name": "stdout",
     "output_type": "stream",
     "text": [
      "3\n",
      "4\n",
      "5\n"
     ]
    }
   ],
   "source": [
    "x = range(3,6)\n",
    "for number in x:\n",
    "    print(number)"
   ]
  },
  {
   "cell_type": "code",
   "execution_count": 55,
   "id": "9d8bdcef-4094-49c2-9e4a-002fe2903124",
   "metadata": {},
   "outputs": [
    {
     "name": "stdout",
     "output_type": "stream",
     "text": [
      "3\n",
      "5\n",
      "7\n",
      "9\n",
      "11\n",
      "13\n",
      "15\n",
      "17\n",
      "19\n"
     ]
    }
   ],
   "source": [
    "x = range(3,20, 2)\n",
    "for number in x:\n",
    "    print(number)"
   ]
  },
  {
   "cell_type": "markdown",
   "id": "3e67dc48-20cb-4e77-988c-4cc8a681b1c8",
   "metadata": {},
   "source": [
    "## Mutabilidad e Inmutabilidad"
   ]
  },
  {
   "cell_type": "code",
   "execution_count": 57,
   "id": "22ea3da4-6e38-439f-b171-1a7ab664b7e8",
   "metadata": {},
   "outputs": [],
   "source": [
    "tuplel= (1,2,3,4,5)"
   ]
  },
  {
   "cell_type": "code",
   "execution_count": 58,
   "id": "900e3cc9-755c-4788-804a-829d35242bcd",
   "metadata": {},
   "outputs": [
    {
     "data": {
      "text/plain": [
       "(1, 2, 3, 4, 5)"
      ]
     },
     "execution_count": 58,
     "metadata": {},
     "output_type": "execute_result"
    }
   ],
   "source": [
    "tuplel"
   ]
  },
  {
   "cell_type": "code",
   "execution_count": 60,
   "id": "e5919752-4b44-4565-8725-4c12ec29eaab",
   "metadata": {},
   "outputs": [
    {
     "ename": "TypeError",
     "evalue": "'type' object does not support item assignment",
     "output_type": "error",
     "traceback": [
      "\u001b[1;31m---------------------------------------------------------------------------\u001b[0m",
      "\u001b[1;31mTypeError\u001b[0m                                 Traceback (most recent call last)",
      "Cell \u001b[1;32mIn[60], line 2\u001b[0m\n\u001b[0;32m      1\u001b[0m \u001b[38;5;66;03m#Inmutabilidad, acceso a modificar un elemento en particular  no podra ser cambiado\u001b[39;00m\n\u001b[1;32m----> 2\u001b[0m \u001b[38;5;28;43mtuple\u001b[39;49m\u001b[43m[\u001b[49m\u001b[38;5;241;43m0\u001b[39;49m\u001b[43m]\u001b[49m\u001b[38;5;241m=\u001b[39m\u001b[38;5;241m10\u001b[39m\n",
      "\u001b[1;31mTypeError\u001b[0m: 'type' object does not support item assignment"
     ]
    }
   ],
   "source": [
    "#Inmutabilidad, acceso a modificar un elemento en particular  no podra ser cambiado\n",
    "tuple[0]=10"
   ]
  },
  {
   "cell_type": "code",
   "execution_count": 61,
   "id": "98b06cec-1a6f-45a4-ae90-ab34add9342b",
   "metadata": {},
   "outputs": [],
   "source": [
    "my_string= \"Aprendiendo sobre inmutabilidad\""
   ]
  },
  {
   "cell_type": "code",
   "execution_count": 62,
   "id": "788fe3dc-651e-4d0d-bb88-62d326265e9d",
   "metadata": {},
   "outputs": [
    {
     "data": {
      "text/plain": [
       "'Aprendiendo sobre inmutabilidad'"
      ]
     },
     "execution_count": 62,
     "metadata": {},
     "output_type": "execute_result"
    }
   ],
   "source": [
    "my_string"
   ]
  },
  {
   "cell_type": "code",
   "execution_count": 63,
   "id": "ad75c1c0-bb6f-412b-84c2-d8f19a029211",
   "metadata": {},
   "outputs": [
    {
     "ename": "TypeError",
     "evalue": "'str' object does not support item assignment",
     "output_type": "error",
     "traceback": [
      "\u001b[1;31m---------------------------------------------------------------------------\u001b[0m",
      "\u001b[1;31mTypeError\u001b[0m                                 Traceback (most recent call last)",
      "Cell \u001b[1;32mIn[63], line 1\u001b[0m\n\u001b[1;32m----> 1\u001b[0m \u001b[43mmy_string\u001b[49m\u001b[43m[\u001b[49m\u001b[38;5;241;43m0\u001b[39;49m\u001b[43m]\u001b[49m\u001b[38;5;241m=\u001b[39m\u001b[38;5;124m'\u001b[39m\u001b[38;5;124msa\u001b[39m\u001b[38;5;124m'\u001b[39m\n",
      "\u001b[1;31mTypeError\u001b[0m: 'str' object does not support item assignment"
     ]
    }
   ],
   "source": [
    "my_string[0]='sa'"
   ]
  },
  {
   "cell_type": "code",
   "execution_count": 64,
   "id": "b7ba0014-e4e3-474b-b509-03cd14860d55",
   "metadata": {},
   "outputs": [],
   "source": [
    "colors= [\"Negro\",\"Verde\",\"Azul\",\"Rojo\"]"
   ]
  },
  {
   "cell_type": "code",
   "execution_count": 65,
   "id": "9b3a3cb8-a355-415c-8eb9-3747dbad6351",
   "metadata": {},
   "outputs": [
    {
     "data": {
      "text/plain": [
       "['Negro', 'Verde', 'Azul', 'Rojo']"
      ]
     },
     "execution_count": 65,
     "metadata": {},
     "output_type": "execute_result"
    }
   ],
   "source": [
    "colors"
   ]
  },
  {
   "cell_type": "code",
   "execution_count": 66,
   "id": "dac08ea2-0af8-4607-8ac2-d7a2592bd90b",
   "metadata": {},
   "outputs": [],
   "source": [
    "colors[0]=\"blanco\""
   ]
  },
  {
   "cell_type": "code",
   "execution_count": 67,
   "id": "7db638fc-4b28-4155-bf5c-64b70f4cf9b7",
   "metadata": {},
   "outputs": [
    {
     "data": {
      "text/plain": [
       "['blanco', 'Verde', 'Azul', 'Rojo']"
      ]
     },
     "execution_count": 67,
     "metadata": {},
     "output_type": "execute_result"
    }
   ],
   "source": [
    "colors"
   ]
  },
  {
   "cell_type": "code",
   "execution_count": null,
   "id": "12480641-2d79-4b8a-a74c-fd629a3b5607",
   "metadata": {},
   "outputs": [],
   "source": []
  }
 ],
 "metadata": {
  "kernelspec": {
   "display_name": "Python 3 (ipykernel)",
   "language": "python",
   "name": "python3"
  },
  "language_info": {
   "codemirror_mode": {
    "name": "ipython",
    "version": 3
   },
   "file_extension": ".py",
   "mimetype": "text/x-python",
   "name": "python",
   "nbconvert_exporter": "python",
   "pygments_lexer": "ipython3",
   "version": "3.13.2"
  }
 },
 "nbformat": 4,
 "nbformat_minor": 5
}
